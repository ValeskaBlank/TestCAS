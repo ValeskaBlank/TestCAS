{
 "cells": [
  {
   "cell_type": "code",
   "execution_count": 15,
   "id": "806d935d",
   "metadata": {},
   "outputs": [],
   "source": [
    "from selenium import webdriver\n",
    "from selenium.webdriver.common.by import By\n",
    "from selenium.webdriver.common.keys import Keys\n",
    "import time\n",
    "\n",
    "# Benutzername und Passwort für GitHub (ersetzen Sie durch Ihre eigenen)\n",
    "username = \"vblank@medienhaus.li\"\n",
    "password = \"suga9495\"\n",
    "\n",
    "# WebDriver für Firefox initialisieren\n",
    "driver = webdriver.Firefox()\n",
    "\n",
    "# Webseite öffnen\n",
    "driver.get(\"https://www.vaterland.li/login\")\n",
    "\n",
    "# Warten, bis die Seite vollständig geladen ist\n",
    "time.sleep(3)\n",
    "\n",
    "# Benutzername eingeben\n",
    "username_field = driver.find_element(By.NAME, \"email\")\n",
    "username_field.send_keys(username)\n",
    "\n",
    "continue_button = driver.find_element(By.CSS_SELECTOR, \"input[type='submit'][value='Weiter']\")\n",
    "continue_button.click()\n",
    "\n",
    "password_field = driver.find_element(By.NAME, \"password\")\n",
    "\n",
    "password_field.send_keys(password)\n",
    "password_field.send_keys(Keys.RETURN)\n",
    "\n",
    "\n",
    "time.sleep(5)\n",
    "\n",
    "back_to_home_button = driver.find_element(By.CSS_SELECTOR, \"a.btn[href='/']\")\n",
    "back_to_home_button.click()\n",
    "\n",
    "# Warten, um die Aktion abzuschließen (kann angepasst werden, je nach Ladezeit der Seite)\n",
    "time.sleep(3)"
   ]
  }
 ],
 "metadata": {
  "kernelspec": {
   "display_name": "Python 3 (ipykernel)",
   "language": "python",
   "name": "python3"
  },
  "language_info": {
   "codemirror_mode": {
    "name": "ipython",
    "version": 3
   },
   "file_extension": ".py",
   "mimetype": "text/x-python",
   "name": "python",
   "nbconvert_exporter": "python",
   "pygments_lexer": "ipython3",
   "version": "3.11.5"
  }
 },
 "nbformat": 4,
 "nbformat_minor": 5
}
