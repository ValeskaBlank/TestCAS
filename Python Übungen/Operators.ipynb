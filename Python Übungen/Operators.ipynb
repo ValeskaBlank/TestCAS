{
 "cells": [
  {
   "cell_type": "markdown",
   "id": "b987e9ca",
   "metadata": {},
   "source": [
    "# Operator +="
   ]
  },
  {
   "cell_type": "markdown",
   "id": "6bbdfb7e",
   "metadata": {},
   "source": [
    "The += operator in Python is used for addition assignment. It's a shorthand way of adding a value to a variable and then assigning the result back to the same variable."
   ]
  },
  {
   "cell_type": "code",
   "execution_count": 2,
   "id": "306c663d",
   "metadata": {},
   "outputs": [
    {
     "name": "stdout",
     "output_type": "stream",
     "text": [
      "8\n"
     ]
    }
   ],
   "source": [
    "x = 5\n",
    "x += 3\n",
    "print(x)"
   ]
  },
  {
   "cell_type": "code",
   "execution_count": 7,
   "id": "34c0f4ef",
   "metadata": {},
   "outputs": [
    {
     "name": "stdout",
     "output_type": "stream",
     "text": [
      "3\n"
     ]
    }
   ],
   "source": [
    "#Write a program that initializes a counter variable with value 2 and then increments it by 1 using the += operator.\n",
    "\n",
    "counter = 2\n",
    "\n",
    "counter += 1\n",
    "\n",
    "print(counter)"
   ]
  },
  {
   "cell_type": "code",
   "execution_count": 11,
   "id": "cca2e04e",
   "metadata": {},
   "outputs": [
    {
     "name": "stdout",
     "output_type": "stream",
     "text": [
      "[1, 2, 3]\n"
     ]
    }
   ],
   "source": [
    "#Write a program that initializes an empty list and then adds elements 1, 2, and 3 to it using the += operator.\n",
    "list = []\n",
    "for i in range(1, 4):\n",
    "    list += [i] #When using the += operator with a list, it expects an iterable object on the right-hand side, darum die Klammern\n",
    "print(list)"
   ]
  },
  {
   "cell_type": "code",
   "execution_count": 1,
   "id": "951212ba",
   "metadata": {},
   "outputs": [
    {
     "name": "stdout",
     "output_type": "stream",
     "text": [
      "Updated list: [15, 20, 25, 30]\n"
     ]
    }
   ],
   "source": [
    "#Write a program that takes a list of numbers and updates each element by adding 10 to it using the += operator.\n",
    "# Original list\n",
    "numbers = [5, 10, 15, 20]\n",
    "\n",
    "for i in range(len(numbers)):\n",
    "    numbers[i] += 10\n",
    "print(\"Updated list:\", numbers)"
   ]
  },
  {
   "cell_type": "code",
   "execution_count": 17,
   "id": "7d1a3839",
   "metadata": {},
   "outputs": [
    {
     "name": "stdout",
     "output_type": "stream",
     "text": [
      "Hello\n"
     ]
    }
   ],
   "source": [
    "#Write a Python program that initializes an empty string and then appends \"Hello\" to it \n",
    "string = \"\"\n",
    "string += \"Hello\"\n",
    "print(string)"
   ]
  },
  {
   "cell_type": "code",
   "execution_count": 21,
   "id": "950f4ae1",
   "metadata": {},
   "outputs": [
    {
     "name": "stdout",
     "output_type": "stream",
     "text": [
      "15\n"
     ]
    }
   ],
   "source": [
    "#Sum of all numbers in list\n",
    "sum = 0\n",
    "list = [1, 2, 3, 4, 5]\n",
    "for i in list:\n",
    "    sum += i\n",
    "print(sum)"
   ]
  },
  {
   "cell_type": "code",
   "execution_count": 22,
   "id": "fd36a2bb",
   "metadata": {},
   "outputs": [
    {
     "name": "stdout",
     "output_type": "stream",
     "text": [
      "150\n"
     ]
    }
   ],
   "source": [
    "sum = 0\n",
    "list = [10, 20, 30, 40, 50]\n",
    "for i in list:\n",
    "    sum += i\n",
    "print(sum)"
   ]
  },
  {
   "cell_type": "code",
   "execution_count": 23,
   "id": "ea0eee84",
   "metadata": {},
   "outputs": [
    {
     "name": "stdout",
     "output_type": "stream",
     "text": [
      "2.37\n"
     ]
    }
   ],
   "source": [
    "#Sum of prices in dict\n",
    "prices = {'apple': 0.99, 'banana': 0.59, 'orange': 0.79}\n",
    "total = 0\n",
    "for fruit, price in prices.items(): #fruit und price repräsentieren key und value im dict, items() ist die Methode zum durchiterieren\n",
    "    total += price\n",
    "print(total)\n",
    "    "
   ]
  },
  {
   "cell_type": "code",
   "execution_count": 28,
   "id": "315b8f3f",
   "metadata": {},
   "outputs": [
    {
     "name": "stdout",
     "output_type": "stream",
     "text": [
      "hello world this is a test \n"
     ]
    }
   ],
   "source": [
    "#Create a list of strings [\"hello\", \"world\", \"this\", \"is\", \"a\", \"test\"]. Use a loop to concatenate all the strings together into a single string using the += operator.\n",
    "list = [\"hello\", \"world\", \"this\", \"is\", \"a\", \"test\"]\n",
    "new_list = \"\"\n",
    "for i in list:\n",
    "    new_list += i + \" \" #die Anführungszeichen sorgen dafür, dass ein Leerschlag kommt\n",
    "print(new_list)"
   ]
  },
  {
   "cell_type": "code",
   "execution_count": 29,
   "id": "f482ab94",
   "metadata": {},
   "outputs": [
    {
     "name": "stdout",
     "output_type": "stream",
     "text": [
      "45\n"
     ]
    }
   ],
   "source": [
    "#Nested List Summation\n",
    "\n",
    "nested_list = [[1, 2, 3], [4, 5, 6], [7, 8, 9]]\n",
    "\n",
    "total = 0\n",
    "\n",
    "for inner_list in nested_list:\n",
    "    for num in inner_list:\n",
    "        total += num\n",
    "\n",
    "print(total)"
   ]
  },
  {
   "cell_type": "markdown",
   "id": "29078a94",
   "metadata": {},
   "source": [
    "# Operator % (modulo)"
   ]
  },
  {
   "cell_type": "code",
   "execution_count": 30,
   "id": "43a3f204",
   "metadata": {},
   "outputs": [],
   "source": [
    "#The % operator in Python is known as the modulo operator. \n",
    "#It returns the remainder of dividing the left operand by the right operand.\n",
    "#The modulo operator is commonly used to determine if a number is even or odd (number % 2 == 0 for even numbers)"
   ]
  },
  {
   "cell_type": "code",
   "execution_count": 32,
   "id": "43086e13",
   "metadata": {},
   "outputs": [
    {
     "name": "stdout",
     "output_type": "stream",
     "text": [
      "1\n"
     ]
    }
   ],
   "source": [
    "result = 10 % 3\n",
    "print(result)  "
   ]
  },
  {
   "cell_type": "code",
   "execution_count": 35,
   "id": "475bf837",
   "metadata": {},
   "outputs": [
    {
     "name": "stdout",
     "output_type": "stream",
     "text": [
      "Number is odd\n"
     ]
    }
   ],
   "source": [
    "#Write a program to check if a given number is even or odd\n",
    "number = 5\n",
    "\n",
    "if number % 2 == 0:\n",
    "    print(\"Number is even\")\n",
    "else:\n",
    "    print(\"Number is odd\")"
   ]
  },
  {
   "cell_type": "code",
   "execution_count": 40,
   "id": "22eeb355",
   "metadata": {},
   "outputs": [
    {
     "name": "stdout",
     "output_type": "stream",
     "text": [
      "7\n",
      "14\n",
      "21\n",
      "28\n",
      "35\n",
      "42\n",
      "49\n",
      "56\n",
      "63\n",
      "70\n",
      "77\n",
      "84\n",
      "91\n",
      "98\n"
     ]
    }
   ],
   "source": [
    "#find all the numbers between 1 and 100 that are divisible by 7\n",
    "for i in range(1, 101):\n",
    "    if i % 7 == 0:\n",
    "        print(i)"
   ]
  },
  {
   "cell_type": "markdown",
   "id": "2ade86a5",
   "metadata": {},
   "source": [
    "# Operator *="
   ]
  },
  {
   "cell_type": "code",
   "execution_count": 42,
   "id": "7803f900",
   "metadata": {},
   "outputs": [
    {
     "name": "stdout",
     "output_type": "stream",
     "text": [
      "[1, 2, 3, 1, 2, 3, 1, 2, 3]\n"
     ]
    }
   ],
   "source": [
    "list = [1, 2, 3]\n",
    "list *= 3\n",
    "print(list)"
   ]
  },
  {
   "cell_type": "code",
   "execution_count": 43,
   "id": "5c74ccf0",
   "metadata": {},
   "outputs": [
    {
     "name": "stdout",
     "output_type": "stream",
     "text": [
      "[3, 6, 9]\n"
     ]
    }
   ],
   "source": [
    "my_list = [1, 2, 3]\n",
    "\n",
    "for i in range(len(my_list)):\n",
    "    my_list[i] *= 3  #square brackets [] are used to index into the list and retrieve the value at a specific position\n",
    "\n",
    "print(my_list)"
   ]
  },
  {
   "cell_type": "code",
   "execution_count": 47,
   "id": "a69ed31b",
   "metadata": {},
   "outputs": [
    {
     "data": {
      "text/plain": [
       "'GitarreGitarreGitarre'"
      ]
     },
     "execution_count": 47,
     "metadata": {},
     "output_type": "execute_result"
    }
   ],
   "source": [
    "string = (\"Gitarre\")\n",
    "string *= 3\n",
    "string"
   ]
  },
  {
   "cell_type": "markdown",
   "id": "2caa9a70",
   "metadata": {},
   "source": [
    "# Operator -="
   ]
  },
  {
   "cell_type": "code",
   "execution_count": 49,
   "id": "8cc335d4",
   "metadata": {},
   "outputs": [],
   "source": [
    "#subtracts the value on the right side of the operator from the value of the variable on the left side \n",
    "#and assigns the result back to the variable on the left side."
   ]
  },
  {
   "cell_type": "code",
   "execution_count": 50,
   "id": "404ab306",
   "metadata": {},
   "outputs": [
    {
     "name": "stdout",
     "output_type": "stream",
     "text": [
      "7\n"
     ]
    }
   ],
   "source": [
    "x = 10\n",
    "x -= 3  # This is equivalent to: x = x - 3\n",
    "print(x)  "
   ]
  },
  {
   "cell_type": "code",
   "execution_count": 52,
   "id": "42c8f6e3",
   "metadata": {},
   "outputs": [
    {
     "name": "stdout",
     "output_type": "stream",
     "text": [
      "[3, 8, 13, 18, 23]\n"
     ]
    }
   ],
   "source": [
    "list = [5, 10, 15, 20, 25]\n",
    "for i in range(len(list)):\n",
    "    list[i] -= 2\n",
    "print(list)"
   ]
  },
  {
   "cell_type": "code",
   "execution_count": 53,
   "id": "48ecf164",
   "metadata": {},
   "outputs": [
    {
     "data": {
      "text/plain": [
       "90"
      ]
     },
     "execution_count": 53,
     "metadata": {},
     "output_type": "execute_result"
    }
   ],
   "source": [
    "total = 100\n",
    "total -= 10\n",
    "total"
   ]
  },
  {
   "cell_type": "code",
   "execution_count": 54,
   "id": "8fd34ba8",
   "metadata": {},
   "outputs": [
    {
     "data": {
      "text/plain": [
       "{'apfel': 5, 'birne': 5, 'orange': 11}"
      ]
     },
     "execution_count": 54,
     "metadata": {},
     "output_type": "execute_result"
    }
   ],
   "source": [
    "#subtract a specified value from one of the values in the dictionary\n",
    "dict = {'apfel' : 5, 'birne' : 7, 'orange' : 11}\n",
    "dict['birne'] -= 2\n",
    "dict"
   ]
  },
  {
   "cell_type": "code",
   "execution_count": null,
   "id": "b6ec06a4",
   "metadata": {},
   "outputs": [],
   "source": []
  }
 ],
 "metadata": {
  "kernelspec": {
   "display_name": "Python 3 (ipykernel)",
   "language": "python",
   "name": "python3"
  },
  "language_info": {
   "codemirror_mode": {
    "name": "ipython",
    "version": 3
   },
   "file_extension": ".py",
   "mimetype": "text/x-python",
   "name": "python",
   "nbconvert_exporter": "python",
   "pygments_lexer": "ipython3",
   "version": "3.11.5"
  }
 },
 "nbformat": 4,
 "nbformat_minor": 5
}
