{
 "cells": [
  {
   "cell_type": "code",
   "execution_count": 1,
   "id": "114fea8f",
   "metadata": {},
   "outputs": [
    {
     "name": "stdout",
     "output_type": "stream",
     "text": [
      "Alice\n",
      "30\n"
     ]
    }
   ],
   "source": [
    "person = {\"name\": \"Alice\", \"age\": 30, \"country\": \"USA\"}\n",
    "#print the values of the \"name\" and \"age\" keys \n",
    "print(person[\"name\"])\n",
    "print(person[\"age\"])"
   ]
  },
  {
   "cell_type": "code",
   "execution_count": 2,
   "id": "34297300",
   "metadata": {},
   "outputs": [
    {
     "data": {
      "text/plain": [
       "{'name': 'Alice', 'age': 30, 'country': 'USA', 'city': 'New York'}"
      ]
     },
     "execution_count": 2,
     "metadata": {},
     "output_type": "execute_result"
    }
   ],
   "source": [
    "#Add a key-value pair for \"city\" with the value \"New York\"\n",
    "person['city'] = 'New York'\n",
    "person"
   ]
  },
  {
   "cell_type": "code",
   "execution_count": 3,
   "id": "9a91cc55",
   "metadata": {},
   "outputs": [
    {
     "data": {
      "text/plain": [
       "{'name': 'Alice', 'age': 35, 'country': 'USA', 'city': 'New York'}"
      ]
     },
     "execution_count": 3,
     "metadata": {},
     "output_type": "execute_result"
    }
   ],
   "source": [
    "#Update the value of the \"age\" key to 35\n",
    "person['age'] = 35\n",
    "person"
   ]
  },
  {
   "cell_type": "code",
   "execution_count": 4,
   "id": "adc880a0",
   "metadata": {},
   "outputs": [
    {
     "data": {
      "text/plain": [
       "{'name': 'Alice', 'age': 35, 'city': 'New York'}"
      ]
     },
     "execution_count": 4,
     "metadata": {},
     "output_type": "execute_result"
    }
   ],
   "source": [
    "#Remove a key-value pair\n",
    "del person['country']\n",
    "person"
   ]
  },
  {
   "cell_type": "code",
   "execution_count": 8,
   "id": "9ad4f4f5",
   "metadata": {},
   "outputs": [
    {
     "name": "stdout",
     "output_type": "stream",
     "text": [
      "name: Alice\n",
      "age: 35\n",
      "city: New York\n"
     ]
    }
   ],
   "source": [
    "for key, value in person.items():\n",
    "    print(key + \":\", value)"
   ]
  },
  {
   "cell_type": "code",
   "execution_count": 11,
   "id": "045aa110",
   "metadata": {},
   "outputs": [
    {
     "name": "stdout",
     "output_type": "stream",
     "text": [
      "name\n",
      "age\n",
      "city\n"
     ]
    }
   ],
   "source": [
    "#Iterate over all the keys in the dictionary and print each key\n",
    "for key in person:\n",
    "    print(key)"
   ]
  },
  {
   "cell_type": "code",
   "execution_count": 13,
   "id": "adc7b59e",
   "metadata": {},
   "outputs": [
    {
     "name": "stdout",
     "output_type": "stream",
     "text": [
      "Alice\n",
      "35\n",
      "New York\n"
     ]
    }
   ],
   "source": [
    "for value in person.values():\n",
    "    print(value)"
   ]
  },
  {
   "cell_type": "code",
   "execution_count": 14,
   "id": "fc6c0b09",
   "metadata": {},
   "outputs": [
    {
     "name": "stdout",
     "output_type": "stream",
     "text": [
      "{}\n"
     ]
    }
   ],
   "source": [
    "#Clear all key-value pairs from the dictionary\n",
    "person.clear()\n",
    "print(person)"
   ]
  },
  {
   "cell_type": "code",
   "execution_count": 15,
   "id": "bc7ad8b4",
   "metadata": {},
   "outputs": [
    {
     "data": {
      "text/plain": [
       "'parents'"
      ]
     },
     "execution_count": 15,
     "metadata": {},
     "output_type": "execute_result"
    }
   ],
   "source": [
    "#nested dictionaries, access a value\n",
    "house_dict = {'colour': 'blue', 'rooms': 2, 'rooms_info': {'room1': 'parents', 'room2': 'children'}, 'bathrooms': 2}\n",
    "\n",
    "house_dict['rooms_info']['room1']"
   ]
  },
  {
   "cell_type": "code",
   "execution_count": 18,
   "id": "3635c508",
   "metadata": {},
   "outputs": [
    {
     "data": {
      "text/plain": [
       "{'colour': 'blue',\n",
       " 'rooms': 2,\n",
       " 'rooms_info': {'room1': 'parents', 'room2': 'children'},\n",
       " 'bathrooms': 2,\n",
       " 'height': 222}"
      ]
     },
     "execution_count": 18,
     "metadata": {},
     "output_type": "execute_result"
    }
   ],
   "source": [
    "#Add a new key-value pair\n",
    "house_dict['height'] = 222\n",
    "house_dict"
   ]
  },
  {
   "cell_type": "code",
   "execution_count": 20,
   "id": "61de4512",
   "metadata": {},
   "outputs": [
    {
     "data": {
      "text/plain": [
       "{'colour': 'blue',\n",
       " 'rooms': 2,\n",
       " 'rooms_info': {'room1': 'parents', 'room2': 'children', 'room3': 'guests'},\n",
       " 'bathrooms': 2,\n",
       " 'height': 222}"
      ]
     },
     "execution_count": 20,
     "metadata": {},
     "output_type": "execute_result"
    }
   ],
   "source": [
    "##Add a new key-value pair in nested\n",
    "house_dict['rooms_info']['room3'] = 'guests'\n",
    "house_dict"
   ]
  },
  {
   "cell_type": "code",
   "execution_count": 21,
   "id": "86ada6e4",
   "metadata": {},
   "outputs": [
    {
     "data": {
      "text/plain": [
       "{'colour': 'blue',\n",
       " 'rooms': 2,\n",
       " 'rooms_info': {'room1': 'parents', 'room2': 'children', 'room3': 'guests'},\n",
       " 'bathrooms': 2,\n",
       " 'height': 222,\n",
       " 'kitchen': 'wood',\n",
       " 'saunas': 2}"
      ]
     },
     "execution_count": 21,
     "metadata": {},
     "output_type": "execute_result"
    }
   ],
   "source": [
    "#merge two dicts\n",
    "house_dict2 = {'kitchen': 'wood', 'saunas': 2}\n",
    "merged_housedict = {**house_dict, **house_dict2}\n",
    "merged_housedict"
   ]
  },
  {
   "cell_type": "code",
   "execution_count": 22,
   "id": "4074c0ac",
   "metadata": {},
   "outputs": [
    {
     "data": {
      "text/plain": [
       "{'colour': 'blue',\n",
       " 'rooms': 2,\n",
       " 'rooms_info': {'room1': 'parents', 'room2': 'children', 'room3': 'guests'},\n",
       " 'bathrooms': 2,\n",
       " 'height': 222,\n",
       " 'kitchen': 'wood',\n",
       " 'saunas': 2}"
      ]
     },
     "execution_count": 22,
     "metadata": {},
     "output_type": "execute_result"
    }
   ],
   "source": [
    "#Alternative, this modifies dict1 in place\n",
    "house_dict.update(house_dict2)\n",
    "house_dict"
   ]
  },
  {
   "cell_type": "code",
   "execution_count": 23,
   "id": "59c171e4",
   "metadata": {},
   "outputs": [
    {
     "data": {
      "text/plain": [
       "{'colour': 'blue',\n",
       " 'rooms': 2,\n",
       " 'rooms_info': {'room1': 'parents', 'room2': 'children', 'room3': 'guests'},\n",
       " 'bathrooms': 2,\n",
       " 'height': 222,\n",
       " 'kitchen': 'wood',\n",
       " 'saunas': 2}"
      ]
     },
     "execution_count": 23,
     "metadata": {},
     "output_type": "execute_result"
    }
   ],
   "source": [
    "#create a copy\n",
    "copied_dict = house_dict.copy()\n",
    "copied_dict"
   ]
  },
  {
   "cell_type": "code",
   "execution_count": 26,
   "id": "7f36aa1c",
   "metadata": {},
   "outputs": [
    {
     "name": "stdout",
     "output_type": "stream",
     "text": [
      "key is in dict\n"
     ]
    }
   ],
   "source": [
    "#Check if a specific key exists \n",
    "if 'saunas' in house_dict:\n",
    "    print('key is in dict')\n",
    "else:\n",
    "    print('key is not in dict')"
   ]
  },
  {
   "cell_type": "code",
   "execution_count": 28,
   "id": "6589eb4f",
   "metadata": {},
   "outputs": [
    {
     "name": "stdout",
     "output_type": "stream",
     "text": [
      "value is in dict\n"
     ]
    }
   ],
   "source": [
    "if 'blue' in house_dict.values():\n",
    "    print('value is in dict')\n",
    "else:\n",
    "    print('value is not in dict')"
   ]
  },
  {
   "cell_type": "code",
   "execution_count": 32,
   "id": "83c3629a",
   "metadata": {},
   "outputs": [
    {
     "name": "stdout",
     "output_type": "stream",
     "text": [
      "Key associated with the maximum value: kiwis\n"
     ]
    }
   ],
   "source": [
    "fruits = {'bananas': 3, 'apples': 4, 'kiwis': 5, 'lemons': 3}\n",
    "max_key = max(fruits, key=fruits.get)\n",
    "print(\"Key associated with the maximum value:\", max_key)"
   ]
  },
  {
   "cell_type": "markdown",
   "id": "8315dc51",
   "metadata": {},
   "source": [
    "# Loops"
   ]
  },
  {
   "cell_type": "code",
   "execution_count": 36,
   "id": "f546dc38",
   "metadata": {},
   "outputs": [
    {
     "name": "stdout",
     "output_type": "stream",
     "text": [
      "['bananas', 'lemons']\n"
     ]
    }
   ],
   "source": [
    "#Find all keys associated with a particular value\n",
    "part_value = []\n",
    "for key in fruits:\n",
    "    if fruits[key] == 3:\n",
    "        part_value.append(key)\n",
    "print(part_value)"
   ]
  },
  {
   "cell_type": "code",
   "execution_count": 37,
   "id": "3edd1884",
   "metadata": {},
   "outputs": [
    {
     "name": "stdout",
     "output_type": "stream",
     "text": [
      "['bananas', 'lemons']\n"
     ]
    }
   ],
   "source": [
    "#alternative\n",
    "keys_with_value_3 = []\n",
    "for key, value in fruits.items():\n",
    "    if value == 3:\n",
    "        keys_with_value_3.append(key)\n",
    "print(keys_with_value_3)"
   ]
  },
  {
   "cell_type": "code",
   "execution_count": 38,
   "id": "37860fbd",
   "metadata": {},
   "outputs": [
    {
     "name": "stdout",
     "output_type": "stream",
     "text": [
      "bananas\n",
      "apples\n",
      "kiwis\n",
      "lemons\n"
     ]
    }
   ],
   "source": [
    "#Iterate over all keys in the dictionary and print each key.\n",
    "for key in fruits:\n",
    "    print(key)"
   ]
  },
  {
   "cell_type": "code",
   "execution_count": 41,
   "id": "10eca480",
   "metadata": {},
   "outputs": [
    {
     "name": "stdout",
     "output_type": "stream",
     "text": [
      "3\n",
      "4\n",
      "5\n",
      "3\n"
     ]
    }
   ],
   "source": [
    "for value in fruits.values():\n",
    "    print(value)"
   ]
  },
  {
   "cell_type": "code",
   "execution_count": 43,
   "id": "384a5a4f",
   "metadata": {},
   "outputs": [
    {
     "name": "stdout",
     "output_type": "stream",
     "text": [
      "bananas: 3\n",
      "apples: 4\n",
      "kiwis: 5\n",
      "lemons: 3\n"
     ]
    }
   ],
   "source": [
    "#Iterate over all key-value pairs in the dictionary and print each pair\n",
    "for key, value in fruits.items():\n",
    "    print(key + \":\", value)"
   ]
  },
  {
   "cell_type": "code",
   "execution_count": 44,
   "id": "1b1198d7",
   "metadata": {},
   "outputs": [
    {
     "data": {
      "text/plain": [
       "{'apples': 4, 'kiwis': 5}"
      ]
     },
     "execution_count": 44,
     "metadata": {},
     "output_type": "execute_result"
    }
   ],
   "source": [
    "#Filter the dictionary to only include key-value pairs that meet a certain condition\n",
    "filtered_fruits = {}\n",
    "for key, value in fruits.items():\n",
    "    if value > 3:\n",
    "        filtered_fruits[key] = value #adding the key-value pair to the filtered_fruits dictionary. \n",
    "filtered_fruits"
   ]
  },
  {
   "cell_type": "code",
   "execution_count": null,
   "id": "c753e5c8",
   "metadata": {},
   "outputs": [],
   "source": []
  }
 ],
 "metadata": {
  "kernelspec": {
   "display_name": "Python 3 (ipykernel)",
   "language": "python",
   "name": "python3"
  },
  "language_info": {
   "codemirror_mode": {
    "name": "ipython",
    "version": 3
   },
   "file_extension": ".py",
   "mimetype": "text/x-python",
   "name": "python",
   "nbconvert_exporter": "python",
   "pygments_lexer": "ipython3",
   "version": "3.11.5"
  }
 },
 "nbformat": 4,
 "nbformat_minor": 5
}
