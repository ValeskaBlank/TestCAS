{
 "cells": [
  {
   "cell_type": "code",
   "execution_count": 6,
   "id": "380d240e",
   "metadata": {},
   "outputs": [
    {
     "name": "stdout",
     "output_type": "stream",
     "text": [
      "2\n",
      "4\n",
      "6\n",
      "8\n"
     ]
    }
   ],
   "source": [
    "#iterate over a list of numbers and double each number\n",
    "list = [1, 2, 3, 4]\n",
    "for i in list:\n",
    "    doubled = i * 2\n",
    "    print(doubled)"
   ]
  },
  {
   "cell_type": "code",
   "execution_count": 8,
   "id": "d66b9331",
   "metadata": {},
   "outputs": [
    {
     "data": {
      "text/plain": [
       "[2, 4, 6, 8]"
      ]
     },
     "execution_count": 8,
     "metadata": {},
     "output_type": "execute_result"
    }
   ],
   "source": [
    "#Alternative\n",
    "list = [1, 2, 3, 4]\n",
    "for i in range(len(list)):\n",
    "    list[i] *= 2\n",
    "list    "
   ]
  },
  {
   "cell_type": "code",
   "execution_count": 11,
   "id": "3eb4f037",
   "metadata": {},
   "outputs": [
    {
     "name": "stdout",
     "output_type": "stream",
     "text": [
      "50.0\n"
     ]
    }
   ],
   "source": [
    "list = [40, 90, 10, 60]\n",
    "total = 0\n",
    "count = 0\n",
    "\n",
    "for i in list:\n",
    "    total += i\n",
    "    count += 1\n",
    "    \n",
    "average = total / count\n",
    "print(average)\n",
    "\n",
    "#The count += 1 statement is used to keep track of the number of elements in the list.\n",
    "#In this case, count is incremented by 1 in each iteration, effectively counting the number of elements in the list."
   ]
  },
  {
   "cell_type": "code",
   "execution_count": 12,
   "id": "e1ff2bd2",
   "metadata": {},
   "outputs": [
    {
     "name": "stdout",
     "output_type": "stream",
     "text": [
      "Maximum value: 30\n",
      "Minimum value: 5\n"
     ]
    }
   ],
   "source": [
    "# iterate over a list of numbers and find the maximum and minimum values\n",
    "numbers = [10, 5, 30, 20, 15]\n",
    "\n",
    "max_value = numbers[0]  # Assume the first element is the maximum initially\n",
    "min_value = numbers[0]  # Assume the first element is the minimum initially\n",
    "\n",
    "for num in numbers:\n",
    "    if num > max_value:\n",
    "        max_value = num\n",
    "    if num < min_value:\n",
    "        min_value = num\n",
    "\n",
    "print(\"Maximum value:\", max_value)\n",
    "print(\"Minimum value:\", min_value)"
   ]
  },
  {
   "cell_type": "code",
   "execution_count": 1,
   "id": "730a1a01",
   "metadata": {},
   "outputs": [
    {
     "name": "stdout",
     "output_type": "stream",
     "text": [
      "apfel\n",
      "birne\n",
      "kiwi\n",
      "dattel\n",
      "zitrone\n"
     ]
    }
   ],
   "source": [
    "#Iterate over a list of strings and print each string\n",
    "\n",
    "strings_list = ('apfel', 'birne', 'kiwi', 'dattel', 'zitrone')\n",
    "for i in strings_list:\n",
    "    print(i)"
   ]
  },
  {
   "cell_type": "code",
   "execution_count": 2,
   "id": "bf5c9b4f",
   "metadata": {},
   "outputs": [
    {
     "name": "stdout",
     "output_type": "stream",
     "text": [
      "apfel\n",
      "54\n",
      "birne\n",
      "kiwi\n",
      "9092\n",
      "dattel\n",
      "zitrone\n"
     ]
    }
   ],
   "source": [
    "#Iterate over a list of mixed data types (strings, numbers, etc.) and print each element\n",
    "mixed_list = ('apfel', 54, 'birne', 'kiwi', 9092, 'dattel', 'zitrone')\n",
    "for i in mixed_list:\n",
    "    print(i)"
   ]
  },
  {
   "cell_type": "code",
   "execution_count": 4,
   "id": "8844619e",
   "metadata": {},
   "outputs": [
    {
     "data": {
      "text/plain": [
       "[16, 64, 100, 196]"
      ]
     },
     "execution_count": 4,
     "metadata": {},
     "output_type": "execute_result"
    }
   ],
   "source": [
    "#Iterate over a list of numbers and print the square of each number.\n",
    "numbers = [4, 8, 10, 14]\n",
    "squares = []\n",
    "for i in numbers:\n",
    "    square = i * i\n",
    "    squares.append(square)\n",
    "squares"
   ]
  },
  {
   "cell_type": "code",
   "execution_count": 10,
   "id": "7c8829f4",
   "metadata": {},
   "outputs": [
    {
     "name": "stdout",
     "output_type": "stream",
     "text": [
      "16\n",
      "64\n",
      "100\n",
      "196\n"
     ]
    }
   ],
   "source": [
    "#kürzer\n",
    "numbers = [4, 8, 10, 14]\n",
    "for num in numbers:\n",
    "    square = num ** 2\n",
    "    print(square)       #muss hier zwingend eingezogen sein"
   ]
  },
  {
   "cell_type": "code",
   "execution_count": 13,
   "id": "c5476aae",
   "metadata": {},
   "outputs": [
    {
     "name": "stdout",
     "output_type": "stream",
     "text": [
      "5\n",
      "5\n",
      "4\n",
      "6\n",
      "7\n"
     ]
    }
   ],
   "source": [
    "#Iterate over a list of strings and print the length of each string.\n",
    "strings = ('apfel', 'birne', 'kiwi', 'dattel', 'zitrone')\n",
    "for i in strings:\n",
    "    length = len(i)\n",
    "    print(length)"
   ]
  },
  {
   "cell_type": "code",
   "execution_count": 17,
   "id": "60a749b4",
   "metadata": {},
   "outputs": [
    {
     "name": "stdout",
     "output_type": "stream",
     "text": [
      "3\n"
     ]
    }
   ],
   "source": [
    "#Iterate over a list of strings and count how many strings have a length greater than 5 characters\n",
    "fruits = ('apfel', 'birnen', 'kiwi', 'datteln', 'zitrone')\n",
    "count = 0\n",
    "for i in fruits:\n",
    "    if len(i) > 5:\n",
    "        count += 1\n",
    "print(count)"
   ]
  },
  {
   "cell_type": "code",
   "execution_count": 18,
   "id": "83173d0a",
   "metadata": {},
   "outputs": [
    {
     "name": "stdout",
     "output_type": "stream",
     "text": [
      "948\n",
      "244\n"
     ]
    }
   ],
   "source": [
    "#Iterate over a list of numbers and print only the even numbers.\n",
    "numbers = [948, 87, 923, 739, 244]\n",
    "for num in numbers:\n",
    "    if num % 2 == 0:\n",
    "        print(num)"
   ]
  },
  {
   "cell_type": "code",
   "execution_count": 23,
   "id": "78c4d54c",
   "metadata": {},
   "outputs": [
    {
     "name": "stdout",
     "output_type": "stream",
     "text": [
      "apfel\n",
      "zitrone\n"
     ]
    }
   ],
   "source": [
    "#print intems that start with a or z\n",
    "fruits = ('apfel', 'birnen', 'kiwi', 'datteln', 'zitrone')\n",
    "for i in fruits:\n",
    "    if i.startswith('a') or i.startswith('z'):\n",
    "        print(i)"
   ]
  },
  {
   "cell_type": "code",
   "execution_count": 26,
   "id": "b6a78a9a",
   "metadata": {},
   "outputs": [
    {
     "name": "stdout",
     "output_type": "stream",
     "text": [
      "1\n",
      "2\n",
      "3\n",
      "4\n",
      "5\n",
      "6\n"
     ]
    }
   ],
   "source": [
    "#Iterate over a list of lists and print each element of each nested list\n",
    "nested_list = [[1, 2, 3], [4, 5, 6]]\n",
    "for i in nested_list:\n",
    "    for num in i:\n",
    "        print(num)"
   ]
  },
  {
   "cell_type": "code",
   "execution_count": null,
   "id": "bf5a5a6c",
   "metadata": {},
   "outputs": [],
   "source": []
  }
 ],
 "metadata": {
  "kernelspec": {
   "display_name": "Python 3 (ipykernel)",
   "language": "python",
   "name": "python3"
  },
  "language_info": {
   "codemirror_mode": {
    "name": "ipython",
    "version": 3
   },
   "file_extension": ".py",
   "mimetype": "text/x-python",
   "name": "python",
   "nbconvert_exporter": "python",
   "pygments_lexer": "ipython3",
   "version": "3.11.5"
  }
 },
 "nbformat": 4,
 "nbformat_minor": 5
}
