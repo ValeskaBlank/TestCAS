{
 "cells": [
  {
   "cell_type": "code",
   "execution_count": 2,
   "id": "c3ade0ee",
   "metadata": {},
   "outputs": [
    {
     "name": "stdout",
     "output_type": "stream",
     "text": [
      "a 1\n",
      "b 2\n",
      "c 3\n"
     ]
    }
   ],
   "source": [
    "dict = {'a': 1, 'b': 2, 'c': 3}\n",
    "for key, value in dict.items():\n",
    "    print(key, value)"
   ]
  },
  {
   "cell_type": "code",
   "execution_count": 4,
   "id": "f319d95d",
   "metadata": {},
   "outputs": [
    {
     "name": "stdout",
     "output_type": "stream",
     "text": [
      "6\n"
     ]
    }
   ],
   "source": [
    "#sum all the values in a dictionary.\n",
    "dict = {'a': 1, 'b': 2, 'c': 3}\n",
    "total = 0\n",
    "for value in dict.values():\n",
    "    total += value\n",
    "print(total)"
   ]
  },
  {
   "cell_type": "code",
   "execution_count": 5,
   "id": "1bda3c58",
   "metadata": {},
   "outputs": [
    {
     "name": "stdout",
     "output_type": "stream",
     "text": [
      "c\n"
     ]
    }
   ],
   "source": [
    "#search for a value in a dictionary and returns the corresponding key\n",
    "my_dict = {'a': 1, 'b': 2, 'c': 3}\n",
    "search_value = 3\n",
    "for key, value in my_dict.items():\n",
    "    if value == search_value:\n",
    "        print(key)  "
   ]
  },
  {
   "cell_type": "code",
   "execution_count": 6,
   "id": "8dafc2b6",
   "metadata": {},
   "outputs": [
    {
     "name": "stdout",
     "output_type": "stream",
     "text": [
      "{'a': 1, 'b': 2, 'c': 3, 'd': 4}\n"
     ]
    }
   ],
   "source": [
    "dict1 = {'a': 1, 'b': 2}\n",
    "dict2 = {'c': 3, 'd': 4}\n",
    "\n",
    "merged_dict = {**dict1, **dict2} #The use of the double asterisks ** in Python is called dictionary unpacking. It's a way to merge two dictionaries together in a single expression. \n",
    "\n",
    "print(merged_dict)"
   ]
  },
  {
   "cell_type": "code",
   "execution_count": 11,
   "id": "a384e8b3",
   "metadata": {},
   "outputs": [
    {
     "name": "stdout",
     "output_type": "stream",
     "text": [
      "Modified dictionary: {'a': 1, 'b': 2}\n"
     ]
    }
   ],
   "source": [
    "#remove all keys with value 3\n",
    "my_dict = {'a': 1, 'b': 2, 'c': 3, 'd': 3}\n",
    "value_to_remove = 3\n",
    "keys_to_remove = []\n",
    "\n",
    "# Find keys to remove\n",
    "for key, value in my_dict.items():\n",
    "    if value == value_to_remove:\n",
    "        keys_to_remove.append(key)\n",
    "\n",
    "# Remove keys\n",
    "for key in keys_to_remove:\n",
    "    del my_dict[key]\n",
    "\n",
    "print(\"Modified dictionary:\", my_dict)"
   ]
  },
  {
   "cell_type": "code",
   "execution_count": 17,
   "id": "c6d8d317",
   "metadata": {},
   "outputs": [
    {
     "name": "stdout",
     "output_type": "stream",
     "text": [
      "5\n",
      "5\n"
     ]
    }
   ],
   "source": [
    "#find and print all the values in a dictionary that appear more than once\n",
    "fruit_dict = {'birne': 5, 'apfel': 3, 'zitrone': 0.90, 'kiwi': 2, 'orange': 5}\n",
    "double_value = dict['birne']\n",
    "for key, value in dict.items():\n",
    "    if value == double_value:\n",
    "        print(value)"
   ]
  },
  {
   "cell_type": "code",
   "execution_count": 18,
   "id": "9c65df6f",
   "metadata": {},
   "outputs": [
    {
     "name": "stdout",
     "output_type": "stream",
     "text": [
      "{5: 'orange', 3: 'apfel', 0.9: 'zitrone', 2: 'kiwi'}\n"
     ]
    }
   ],
   "source": [
    "#create a new dictionary where the keys and values are swapped from an existing dictionary.\n",
    "fruit_dict = {'birne': 5, 'apfel': 3, 'zitrone': 0.90, 'kiwi': 2, 'orange': 5}\n",
    "reversed_dict = {}\n",
    "for key, value in fruit_dict.items():\n",
    "    reversed_dict[value] = key\n",
    "print(reversed_dict)"
   ]
  },
  {
   "cell_type": "code",
   "execution_count": null,
   "id": "2813e78f",
   "metadata": {},
   "outputs": [],
   "source": []
  }
 ],
 "metadata": {
  "kernelspec": {
   "display_name": "Python 3 (ipykernel)",
   "language": "python",
   "name": "python3"
  },
  "language_info": {
   "codemirror_mode": {
    "name": "ipython",
    "version": 3
   },
   "file_extension": ".py",
   "mimetype": "text/x-python",
   "name": "python",
   "nbconvert_exporter": "python",
   "pygments_lexer": "ipython3",
   "version": "3.11.5"
  }
 },
 "nbformat": 4,
 "nbformat_minor": 5
}
